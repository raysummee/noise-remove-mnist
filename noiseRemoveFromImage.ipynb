{
 "cells": [
  {
   "cell_type": "code",
   "execution_count": 2,
   "source": [
    "import pandas as pd\n",
    "import numpy as np\n",
    "import matplotlib.pyplot as plt"
   ],
   "outputs": [],
   "metadata": {}
  },
  {
   "cell_type": "code",
   "execution_count": 3,
   "source": [
    "from tensorflow.keras.datasets import mnist"
   ],
   "outputs": [],
   "metadata": {}
  },
  {
   "cell_type": "code",
   "execution_count": 4,
   "source": [
    "(X_train, y_train), (X_test, y_test) = mnist.load_data()"
   ],
   "outputs": [],
   "metadata": {}
  },
  {
   "cell_type": "code",
   "execution_count": 5,
   "source": [
    "plt.imshow(X_train[0])"
   ],
   "outputs": [
    {
     "output_type": "execute_result",
     "data": {
      "text/plain": [
       "<matplotlib.image.AxesImage at 0x126d46bb0>"
      ]
     },
     "metadata": {},
     "execution_count": 5
    },
    {
     "output_type": "display_data",
     "data": {
      "text/plain": [
       "<Figure size 432x288 with 1 Axes>"
      ],
      "image/png": "[encoded data removed]"
     },
     "metadata": {
      "needs_background": "light"
     }
    }
   ],
   "metadata": {}
  },
  {
   "cell_type": "code",
   "execution_count": 6,
   "source": [
    "X_train = X_train/255"
   ],
   "outputs": [],
   "metadata": {}
  },
  {
   "cell_type": "code",
   "execution_count": 7,
   "source": [
    "X_test = X_test/255"
   ],
   "outputs": [],
   "metadata": {}
  },
  {
   "cell_type": "code",
   "execution_count": 8,
   "source": [
    "from tensorflow.keras.models import Sequential\n",
    "from tensorflow.keras.layers import Dense, Flatten, Reshape\n",
    "from tensorflow.keras.optimizers import SGD"
   ],
   "outputs": [],
   "metadata": {}
  },
  {
   "cell_type": "code",
   "execution_count": 9,
   "source": [
    "28*28"
   ],
   "outputs": [
    {
     "output_type": "execute_result",
     "data": {
      "text/plain": [
       "784"
      ]
     },
     "metadata": {},
     "execution_count": 9
    }
   ],
   "metadata": {}
  },
  {
   "cell_type": "code",
   "execution_count": 10,
   "source": [
    "784/2"
   ],
   "outputs": [
    {
     "output_type": "execute_result",
     "data": {
      "text/plain": [
       "392.0"
      ]
     },
     "metadata": {},
     "execution_count": 10
    }
   ],
   "metadata": {}
  },
  {
   "cell_type": "code",
   "execution_count": 11,
   "source": [
    "X_train[0].shape"
   ],
   "outputs": [
    {
     "output_type": "execute_result",
     "data": {
      "text/plain": [
       "(28, 28)"
      ]
     },
     "metadata": {},
     "execution_count": 11
    }
   ],
   "metadata": {}
  },
  {
   "cell_type": "code",
   "execution_count": 12,
   "source": [
    "encoder = Sequential()\n",
    "encoder.add(Flatten(input_shape=[28, 28]))\n",
    "encoder.add(Dense(400, activation='relu'))\n",
    "encoder.add(Dense(200, activation='relu'))\n",
    "encoder.add(Dense(100, activation='relu'))\n",
    "encoder.add(Dense(50, activation='relu'))\n",
    "encoder.add(Dense(25, activation='relu'))"
   ],
   "outputs": [],
   "metadata": {}
  },
  {
   "cell_type": "code",
   "execution_count": 13,
   "source": [
    "decoder = Sequential()\n",
    "decoder.add(Dense(50, input_shape=[25], activation='relu'))\n",
    "decoder.add(Dense(100, activation='relu'))\n",
    "decoder.add(Dense(200, activation='relu'))\n",
    "decoder.add(Dense(400, activation='relu'))\n",
    "decoder.add(Dense(784, activation='sigmoid'))\n",
    "decoder.add(Reshape([28,28]))"
   ],
   "outputs": [],
   "metadata": {}
  },
  {
   "cell_type": "code",
   "execution_count": 14,
   "source": [
    "autoencoder = Sequential([encoder, decoder])"
   ],
   "outputs": [],
   "metadata": {}
  },
  {
   "cell_type": "code",
   "execution_count": 15,
   "source": [
    "autoencoder.summary()"
   ],
   "outputs": [
    {
     "output_type": "stream",
     "name": "stdout",
     "text": [
      "Model: \"sequential_2\"\n",
      "_________________________________________________________________\n",
      "Layer (type)                 Output Shape              Param #   \n",
      "=================================================================\n",
      "sequential (Sequential)      (None, 25)                420625    \n",
      "_________________________________________________________________\n",
      "sequential_1 (Sequential)    (None, 28, 28)            421384    \n",
      "=================================================================\n",
      "Total params: 842,009\n",
      "Trainable params: 842,009\n",
      "Non-trainable params: 0\n",
      "_________________________________________________________________\n"
     ]
    }
   ],
   "metadata": {}
  },
  {
   "cell_type": "code",
   "execution_count": 16,
   "source": [
    "encoder.summary()"
   ],
   "outputs": [
    {
     "output_type": "stream",
     "name": "stdout",
     "text": [
      "Model: \"sequential\"\n",
      "_________________________________________________________________\n",
      "Layer (type)                 Output Shape              Param #   \n",
      "=================================================================\n",
      "flatten (Flatten)            (None, 784)               0         \n",
      "_________________________________________________________________\n",
      "dense (Dense)                (None, 400)               314000    \n",
      "_________________________________________________________________\n",
      "dense_1 (Dense)              (None, 200)               80200     \n",
      "_________________________________________________________________\n",
      "dense_2 (Dense)              (None, 100)               20100     \n",
      "_________________________________________________________________\n",
      "dense_3 (Dense)              (None, 50)                5050      \n",
      "_________________________________________________________________\n",
      "dense_4 (Dense)              (None, 25)                1275      \n",
      "=================================================================\n",
      "Total params: 420,625\n",
      "Trainable params: 420,625\n",
      "Non-trainable params: 0\n",
      "_________________________________________________________________\n"
     ]
    }
   ],
   "metadata": {}
  },
  {
   "cell_type": "code",
   "execution_count": 17,
   "source": [
    "decoder.summary()"
   ],
   "outputs": [
    {
     "output_type": "stream",
     "name": "stdout",
     "text": [
      "Model: \"sequential_1\"\n",
      "_________________________________________________________________\n",
      "Layer (type)                 Output Shape              Param #   \n",
      "=================================================================\n",
      "dense_5 (Dense)              (None, 50)                1300      \n",
      "_________________________________________________________________\n",
      "dense_6 (Dense)              (None, 100)               5100      \n",
      "_________________________________________________________________\n",
      "dense_7 (Dense)              (None, 200)               20200     \n",
      "_________________________________________________________________\n",
      "dense_8 (Dense)              (None, 400)               80400     \n",
      "_________________________________________________________________\n",
      "dense_9 (Dense)              (None, 784)               314384    \n",
      "_________________________________________________________________\n",
      "reshape (Reshape)            (None, 28, 28)            0         \n",
      "=================================================================\n",
      "Total params: 421,384\n",
      "Trainable params: 421,384\n",
      "Non-trainable params: 0\n",
      "_________________________________________________________________\n"
     ]
    }
   ],
   "metadata": {}
  },
  {
   "cell_type": "code",
   "execution_count": 14,
   "source": [
    "autoencoder.compile(loss='binary_crossentropy', optimizer=SGD(lr=1.5), metrics=['accuracy'])"
   ],
   "outputs": [],
   "metadata": {}
  },
  {
   "cell_type": "code",
   "execution_count": 15,
   "source": [
    "from tensorflow.keras.callbacks import EarlyStopping\n",
    "early_stop = EarlyStopping(monitor=\"val_loss\")"
   ],
   "outputs": [],
   "metadata": {}
  },
  {
   "cell_type": "code",
   "execution_count": 16,
   "source": [
    "autoencoder.fit(X_train, X_train, epochs=200, validation_data=(X_test, X_test), callbacks=[early_stop], batch_size=1)"
   ],
   "outputs": [
    {
     "output_type": "stream",
     "name": "stdout",
     "text": [
      "Epoch 1/200\n",
      "1875/1875 [==============================] - 3s 2ms/step - loss: 0.2875 - accuracy: 0.0746 - val_loss: 0.2025 - val_accuracy: 0.1427\n",
      "Epoch 2/200\n",
      "1875/1875 [==============================] - 3s 2ms/step - loss: 0.1905 - accuracy: 0.1579 - val_loss: 0.1638 - val_accuracy: 0.1889\n",
      "Epoch 3/200\n",
      "1875/1875 [==============================] - 3s 2ms/step - loss: 0.1621 - accuracy: 0.1941 - val_loss: 0.1503 - val_accuracy: 0.2091\n",
      "Epoch 4/200\n",
      "1875/1875 [==============================] - 3s 1ms/step - loss: 0.1459 - accuracy: 0.2176 - val_loss: 0.1368 - val_accuracy: 0.2221\n",
      "Epoch 5/200\n",
      "1875/1875 [==============================] - 3s 1ms/step - loss: 0.1369 - accuracy: 0.2299 - val_loss: 0.1328 - val_accuracy: 0.2291\n",
      "Epoch 6/200\n",
      "1875/1875 [==============================] - 3s 2ms/step - loss: 0.1321 - accuracy: 0.2360 - val_loss: 0.1295 - val_accuracy: 0.2298\n",
      "Epoch 7/200\n",
      "1875/1875 [==============================] - 3s 2ms/step - loss: 0.1290 - accuracy: 0.2414 - val_loss: 0.1279 - val_accuracy: 0.2407\n",
      "Epoch 8/200\n",
      "1875/1875 [==============================] - 3s 2ms/step - loss: 0.1265 - accuracy: 0.2438 - val_loss: 0.1264 - val_accuracy: 0.2342\n",
      "Epoch 9/200\n",
      "1875/1875 [==============================] - 3s 2ms/step - loss: 0.1239 - accuracy: 0.2473 - val_loss: 0.1216 - val_accuracy: 0.2431\n",
      "Epoch 10/200\n",
      "1875/1875 [==============================] - 3s 2ms/step - loss: 0.1213 - accuracy: 0.2486 - val_loss: 0.1238 - val_accuracy: 0.2378\n"
     ]
    },
    {
     "output_type": "execute_result",
     "data": {
      "text/plain": [
       "<tensorflow.python.keras.callbacks.History at 0x13a299250>"
      ]
     },
     "metadata": {},
     "execution_count": 16
    }
   ],
   "metadata": {}
  },
  {
   "cell_type": "code",
   "execution_count": 17,
   "source": [
    "pd.DataFrame(autoencoder.history.history).plot()"
   ],
   "outputs": [
    {
     "output_type": "execute_result",
     "data": {
      "text/plain": [
       "<AxesSubplot:>"
      ]
     },
     "metadata": {},
     "execution_count": 17
    },
    {
     "output_type": "display_data",
     "data": {
      "text/plain": [
       "<Figure size 432x288 with 1 Axes>"
      ],
      "image/png": "[encoded data removed]"
     },
     "metadata": {
      "needs_background": "light"
     }
    }
   ],
   "metadata": {}
  },
  {
   "cell_type": "code",
   "execution_count": 18,
   "source": [
    "passed_image = autoencoder.predict(X_test[:10])"
   ],
   "outputs": [],
   "metadata": {}
  },
  {
   "cell_type": "code",
   "execution_count": 20,
   "source": [
    "n = 3\n",
    "print(\"original image\")\n",
    "plt.imshow(X_test[n])\n",
    "plt.show()\n",
    "print(\"attempted image\")\n",
    "plt.imshow(passed_image[n])"
   ],
   "outputs": [
    {
     "output_type": "stream",
     "name": "stdout",
     "text": [
      "original image\n"
     ]
    },
    {
     "output_type": "display_data",
     "data": {
      "text/plain": [
       "<Figure size 432x288 with 1 Axes>"
      ],
      "image/png": "[encoded data removed]"
     },
     "metadata": {
      "needs_background": "light"
     }
    },
    {
     "output_type": "stream",
     "name": "stdout",
     "text": [
      "attempted image\n"
     ]
    },
    {
     "output_type": "execute_result",
     "data": {
      "text/plain": [
       "<matplotlib.image.AxesImage at 0x15a5d8c40>"
      ]
     },
     "metadata": {},
     "execution_count": 20
    },
    {
     "output_type": "display_data",
     "data": {
      "text/plain": [
       "<Figure size 432x288 with 1 Axes>"
      ],
      "image/png": "[encoded data removed]"
     },
     "metadata": {
      "needs_background": "light"
     }
    }
   ],
   "metadata": {}
  },
  {
   "cell_type": "code",
   "execution_count": null,
   "source": [],
   "outputs": [],
   "metadata": {}
  },
  {
   "cell_type": "code",
   "execution_count": 21,
   "source": [
    "from tensorflow.keras.layers import GaussianNoise"
   ],
   "outputs": [],
   "metadata": {}
  },
  {
   "cell_type": "code",
   "execution_count": 22,
   "source": [
    "sample = GaussianNoise(0.2)"
   ],
   "outputs": [],
   "metadata": {}
  },
  {
   "cell_type": "code",
   "execution_count": 26,
   "source": [
    "noisy = sample(X_test[:10], training=True)"
   ],
   "outputs": [],
   "metadata": {}
  },
  {
   "cell_type": "code",
   "execution_count": 27,
   "source": [
    "n = 0\n",
    "print(\"original image\")\n",
    "plt.imshow(X_test[n])\n",
    "plt.show()\n",
    "print(\"noisy image\")\n",
    "plt.imshow(noisy[n])"
   ],
   "outputs": [
    {
     "output_type": "stream",
     "name": "stdout",
     "text": [
      "original image\n"
     ]
    },
    {
     "output_type": "display_data",
     "data": {
      "text/plain": [
       "<Figure size 432x288 with 1 Axes>"
      ],
      "image/png": "[encoded data removed]"
     },
     "metadata": {
      "needs_background": "light"
     }
    },
    {
     "output_type": "stream",
     "name": "stdout",
     "text": [
      "noisy image\n"
     ]
    },
    {
     "output_type": "execute_result",
     "data": {
      "text/plain": [
       "<matplotlib.image.AxesImage at 0x15b47c9d0>"
      ]
     },
     "metadata": {},
     "execution_count": 27
    },
    {
     "output_type": "display_data",
     "data": {
      "text/plain": [
       "<Figure size 432x288 with 1 Axes>"
      ],
      "image/png": "[encoded data removed]"
     },
     "metadata": {
      "needs_background": "light"
     }
    }
   ],
   "metadata": {}
  },
  {
   "cell_type": "code",
   "execution_count": 28,
   "source": [
    "import tensorflow as tf"
   ],
   "outputs": [],
   "metadata": {}
  },
  {
   "cell_type": "code",
   "execution_count": 29,
   "source": [
    "encoder = Sequential()\n",
    "encoder.add(Flatten(input_shape=[28, 28]))\n",
    "encoder.add(GaussianNoise(0.2))\n",
    "encoder.add(Dense(400, activation='relu'))\n",
    "encoder.add(Dense(200, activation='relu'))\n",
    "encoder.add(Dense(100, activation='relu'))\n",
    "encoder.add(Dense(50, activation='relu'))\n",
    "encoder.add(Dense(25, activation='relu'))"
   ],
   "outputs": [],
   "metadata": {}
  },
  {
   "cell_type": "code",
   "execution_count": 30,
   "source": [
    "decoder = Sequential()\n",
    "decoder.add(Dense(50, input_shape=[25], activation='relu'))\n",
    "decoder.add(Dense(100, activation='relu'))\n",
    "decoder.add(Dense(200, activation='relu'))\n",
    "decoder.add(Dense(400, activation='relu'))\n",
    "decoder.add(Dense(784, activation='sigmoid'))\n",
    "decoder.add(Reshape([28,28]))"
   ],
   "outputs": [],
   "metadata": {}
  },
  {
   "cell_type": "code",
   "execution_count": 31,
   "source": [
    "noise_remover = Sequential([encoder, decoder])"
   ],
   "outputs": [],
   "metadata": {}
  },
  {
   "cell_type": "code",
   "execution_count": 32,
   "source": [
    "noise_remover.compile(loss='binary_crossentropy', optimizer='adam', metrics=['accuracy'])"
   ],
   "outputs": [],
   "metadata": {}
  },
  {
   "cell_type": "code",
   "execution_count": 33,
   "source": [
    "noise_remover.fit(X_train, X_train, epochs=8)"
   ],
   "outputs": [
    {
     "output_type": "stream",
     "name": "stdout",
     "text": [
      "Epoch 1/8\n",
      "1875/1875 [==============================] - 4s 2ms/step - loss: 0.2201 - accuracy: 0.1338\n",
      "Epoch 2/8\n",
      "1875/1875 [==============================] - 4s 2ms/step - loss: 0.1368 - accuracy: 0.2246\n",
      "Epoch 3/8\n",
      "1875/1875 [==============================] - 4s 2ms/step - loss: 0.1241 - accuracy: 0.2419\n",
      "Epoch 4/8\n",
      "1875/1875 [==============================] - 4s 2ms/step - loss: 0.1162 - accuracy: 0.2530\n",
      "Epoch 5/8\n",
      "1875/1875 [==============================] - 4s 2ms/step - loss: 0.1115 - accuracy: 0.2605\n",
      "Epoch 6/8\n",
      "1875/1875 [==============================] - 4s 2ms/step - loss: 0.1084 - accuracy: 0.2656\n",
      "Epoch 7/8\n",
      "1875/1875 [==============================] - 4s 2ms/step - loss: 0.1066 - accuracy: 0.2700\n",
      "Epoch 8/8\n",
      "1875/1875 [==============================] - 4s 2ms/step - loss: 0.1054 - accuracy: 0.2720\n"
     ]
    },
    {
     "output_type": "execute_result",
     "data": {
      "text/plain": [
       "<tensorflow.python.keras.callbacks.History at 0x15b29e640>"
      ]
     },
     "metadata": {},
     "execution_count": 33
    }
   ],
   "metadata": {}
  },
  {
   "cell_type": "code",
   "execution_count": 34,
   "source": [
    "ten_noisy_images = sample(X_test[:10], training=True)"
   ],
   "outputs": [],
   "metadata": {}
  },
  {
   "cell_type": "code",
   "execution_count": 35,
   "source": [
    "denoised = noise_remover(ten_noisy_images)"
   ],
   "outputs": [],
   "metadata": {}
  },
  {
   "cell_type": "code",
   "execution_count": 38,
   "source": [
    "n = 3\n",
    "print(\"original image\")\n",
    "plt.imshow(X_test[n])\n",
    "plt.show()\n",
    "print(\"noisy image\")\n",
    "plt.imshow(ten_noisy_images[n])\n",
    "plt.show()\n",
    "print(\"denoised image\")\n",
    "plt.imshow(denoised[n])"
   ],
   "outputs": [
    {
     "output_type": "stream",
     "name": "stdout",
     "text": [
      "original image\n"
     ]
    },
    {
     "output_type": "display_data",
     "data": {
      "text/plain": [
       "<Figure size 432x288 with 1 Axes>"
      ],
      "image/png": "[encoded data removed]"
     },
     "metadata": {
      "needs_background": "light"
     }
    },
    {
     "output_type": "stream",
     "name": "stdout",
     "text": [
      "noisy image\n"
     ]
    },
    {
     "output_type": "display_data",
     "data": {
      "text/plain": [
       "<Figure size 432x288 with 1 Axes>"
      ],
      "image/png": "[encoded data removed]"
     },
     "metadata": {
      "needs_background": "light"
     }
    },
    {
     "output_type": "stream",
     "name": "stdout",
     "text": [
      "denoised image\n"
     ]
    },
    {
     "output_type": "execute_result",
     "data": {
      "text/plain": [
       "<matplotlib.image.AxesImage at 0x2b284dfa0>"
      ]
     },
     "metadata": {},
     "execution_count": 38
    },
    {
     "output_type": "display_data",
     "data": {
      "text/plain": [
       "<Figure size 432x288 with 1 Axes>"
      ],
      "image/png": "[encoded data removed]"
     },
     "metadata": {
      "needs_background": "light"
     }
    }
   ],
   "metadata": {}
  },
  {
   "cell_type": "code",
   "execution_count": null,
   "source": [],
   "outputs": [],
   "metadata": {}
  }
 ],
 "metadata": {
  "kernelspec": {
   "name": "python3",
   "display_name": "Python 3.8.10 64-bit ('tf_macos': conda)"
  },
  "language_info": {
   "codemirror_mode": {
    "name": "ipython",
    "version": 3
   },
   "file_extension": ".py",
   "mimetype": "text/x-python",
   "name": "python",
   "nbconvert_exporter": "python",
   "pygments_lexer": "ipython3",
   "version": "3.8.10"
  },
  "interpreter": {
   "hash": "185742ff20172d12c723fc42a510971acbf9cc3a060798bd78fbdcb8dee53d8c"
  }
 },
 "nbformat": 4,
 "nbformat_minor": 5
}